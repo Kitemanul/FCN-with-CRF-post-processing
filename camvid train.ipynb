{
 "cells": [
  {
   "cell_type": "code",
   "execution_count": 2,
   "metadata": {},
   "outputs": [],
   "source": [
    "import torch\n",
    "import torch.nn as nn\n",
    "import torch.optim as optim\n",
    "from torch.optim import lr_scheduler\n",
    "import torch.nn.functional as F\n",
    "from torch.utils.data import Dataset,DataLoader"
   ]
  },
  {
   "cell_type": "code",
   "execution_count": 3,
   "metadata": {},
   "outputs": [],
   "source": [
    "import torchvision.transforms as transform\n",
    "import numpy as np\n",
    "from torch.autograd import Variable\n",
    "from crf import dense_crf\n",
    "from fcn import FCNs,FCN8s,FCN32s,VGGNet"
   ]
  },
  {
   "cell_type": "code",
   "execution_count": 4,
   "metadata": {},
   "outputs": [],
   "source": [
    "from skimage import io\n",
    "from skimage import transform as trans\n",
    "import cv2\n",
    "import os\n",
    "from sklearn.model_selection import train_test_split"
   ]
  },
  {
   "cell_type": "code",
   "execution_count": 8,
   "metadata": {},
   "outputs": [],
   "source": [
    "root_dir='camvid-master'\n",
    "data_dir=os.path.join(root_dir,'701_StillsRaw_full')\n",
    "label_dir=os.path.join(root_dir,'LabeledApproved_full')\n",
    "label_colors_file=os.path.join(root_dir,'label_colors.txt')\n",
    "label_idx_dir=os.path.join(root_dir,'Labeled_idx')\n",
    "n_classes=32\n",
    "h,w=720,960\n",
    "train_h,train_w=int(h*2/3),int(w*2/3)\n",
    "val_h,val_w=int(h/32)*32,int(w)\n",
    "momentum=0"
   ]
  },
  {
   "cell_type": "code",
   "execution_count": 9,
   "metadata": {},
   "outputs": [
    {
     "name": "stdout",
     "output_type": "stream",
     "text": [
      "('Configs:', 'FCNs-BCEWithLogits_batch6_epoch500_RMSprop_scheduler-step30-gamma0.5_lr0.0001_momentum0_w_decay1e-05')\n"
     ]
    }
   ],
   "source": [
    "configs= \"FCNs-BCEWithLogits_batch{}_epoch{}_RMSprop_scheduler-step{}-gamma{}_lr{}_momentum{}_w_decay{}\".format(batch_size, epochs, step_size, gamma, lr, momentum, weight_decay)\n",
    "print(\"Configs:\", configs)\n"
   ]
  },
  {
   "cell_type": "code",
   "execution_count": 10,
   "metadata": {},
   "outputs": [],
   "source": [
    "model_dir=os.path.join(root_dir,'model')\n",
    "model_path = os.path.join(model_dir, configs)"
   ]
  },
  {
   "cell_type": "code",
   "execution_count": 11,
   "metadata": {},
   "outputs": [],
   "source": [
    "epochs=500\n",
    "batch_size=6\n",
    "lr=1e-4\n",
    "weight_decay=1e-5\n",
    "step_size=30\n",
    "gamma=0.5"
   ]
  },
  {
   "cell_type": "code",
   "execution_count": 13,
   "metadata": {},
   "outputs": [],
   "source": [
    "score_dir = os.path.join(\"scores\", configs)\n",
    "if not os.path.exists(score_dir):\n",
    "    os.makedirs(score_dir)\n",
    "IU_scores    = np.zeros((epochs, n_classes))\n",
    "pixel_scores = np.zeros(epochs)"
   ]
  },
  {
   "cell_type": "code",
   "execution_count": 14,
   "metadata": {},
   "outputs": [],
   "source": [
    "all_images=os.listdir(data_dir)\n",
    "all_labels=os.listdir(label_dir)"
   ]
  },
  {
   "cell_type": "code",
   "execution_count": 15,
   "metadata": {},
   "outputs": [],
   "source": [
    "cam_train,cam_val=train_test_split(all_images,train_size=0.9,test_size=0.1)"
   ]
  },
  {
   "cell_type": "code",
   "execution_count": 16,
   "metadata": {},
   "outputs": [],
   "source": [
    "class camvid(Dataset):\n",
    "    def __init__(self,data_dir,label_idx_dir,cam_train,cam_val,train=True,transform=None):\n",
    "        self.data_dir=data_dir\n",
    "        self.label_idx_dir=label_idx_dir\n",
    "        self.cam_train=cam_train\n",
    "        self.cam_val=cam_val\n",
    "        self.train=train\n",
    "        self.transform=transform\n",
    "    def __len__(self):\n",
    "        if self.train:\n",
    "            return len(self.cam_train)\n",
    "        else:\n",
    "            return len(self.cam_eval)\n",
    "    def __getitem__(self,idx):\n",
    "        if self.train:\n",
    "            im=io.imread(os.path.join(self.data_dir,self.cam_train[idx]))\n",
    "            lb=np.load(os.path.join(self.label_idx_dir,self.cam_train[idx].split(\".\")[0]+'_L.png.npy'))\n",
    "            sample={'image':im,'label':lb}\n",
    "        else:\n",
    "            im=io.imread(os.path.join(self.data_dir,self.cam_val[idx]))\n",
    "            lb=np.load(os.path.join(self.label_idx_dir,self.cam_val[idx].split(\".\")[0]+'_L.png.npy'))\n",
    "            sample={'image':im,'label':lb}\n",
    "        if self.transform:\n",
    "            sample=self.transform(sample)\n",
    "        label=sample['label']    \n",
    "        h_,w_=label.size()\n",
    "        target=torch.zeros(n_classes,h_,w_)\n",
    "        for c in range(n_classes):\n",
    "            target[c][label==c]=1\n",
    "        sample['target']=target\n",
    "        \n",
    "        return sample\n",
    "    \n",
    "    \n",
    "        "
   ]
  },
  {
   "cell_type": "code",
   "execution_count": 17,
   "metadata": {},
   "outputs": [],
   "source": [
    "class resize(object):\n",
    "    def __init__(self,train=True):\n",
    "        self.train=train\n",
    "    def __call__(self,sample):\n",
    "        image=sample['image']\n",
    "        label=sample['label']\n",
    "        \n",
    "        if self.train:\n",
    "            image=trans.resize(image,(train_h,train_w))\n",
    "            label=trans.resize(label,(train_h,train_w))\n",
    "        else:\n",
    "            image=trans.resize(image,(val_h,val_w))\n",
    "            label=trans.resize(label,(val_h,val_w))\n",
    "        sample={'image':image,'label':label}\n",
    "        return sample    \n",
    "\n",
    "class ToTensor(object):\n",
    "    def __call__(self,sample):\n",
    "        image,label=sample['image'],sample['label']\n",
    "        t=transform.ToTensor()\n",
    "        image=t(image)\n",
    "        label=torch.from_numpy(label.copy()).long()\n",
    "        return {'image':image,'label':label}\n",
    "\n",
    "class Norm(object):\n",
    "    def __init__(self,mean,std):\n",
    "        self.mean=mean\n",
    "        self.std=std\n",
    "    def __call__(self,sample):\n",
    "        t=transform.Normalize(self.mean,self.std)\n",
    "        image,label=sample['image'],sample['label']\n",
    "        im=t(image)\n",
    "        return {'image':im,'label':label}\n",
    "        \n",
    "        "
   ]
  },
  {
   "cell_type": "code",
   "execution_count": 18,
   "metadata": {},
   "outputs": [],
   "source": [
    "mean=np.array([123.68,103.939,116.779])/255\n",
    "std=[1,1,1]\n",
    "tsfm1=transform.Compose([resize(train=True),ToTensor(),Norm(mean,std)])\n",
    "tsfm2=transform.Compose([resize(train=False),ToTensor(),Norm(mean,std)])"
   ]
  },
  {
   "cell_type": "code",
   "execution_count": 19,
   "metadata": {},
   "outputs": [],
   "source": [
    "CamVid_train=camvid(data_dir,label_idx_dir,cam_train,cam_val,train=True,transform=tsfm1)\n",
    "CamVid_val=camvid(data_dir,label_idx_dir,cam_train,cam_val,train=False,transform=tsfm2)"
   ]
  },
  {
   "cell_type": "code",
   "execution_count": 20,
   "metadata": {},
   "outputs": [],
   "source": [
    "train_loader=DataLoader(CamVid_train,batch_size=batch_size,shuffle=True)\n",
    "eval_loader=DataLoader(CamVid_val,batch_size=batch_size,shuffle=True)"
   ]
  },
  {
   "cell_type": "code",
   "execution_count": 21,
   "metadata": {},
   "outputs": [],
   "source": [
    "vgg_model=VGGNet(pretrained=True,model='vgg16',requires_grad=True,remove_fc=True)\n",
    "fcn_model=FCNs(n_classes=n_classes,pretrained_net=vgg_model)"
   ]
  },
  {
   "cell_type": "code",
   "execution_count": 22,
   "metadata": {},
   "outputs": [],
   "source": [
    "criterion=nn.BCEWithLogitsLoss()\n",
    "optimizer=optim.RMSprop(fcn_model.parameters(),lr=lr,momentum=0,weight_decay=weight_decay)\n",
    "scheduler=lr_scheduler.StepLR(optimizer,step_size=step_size,gamma=gamma)"
   ]
  },
  {
   "cell_type": "code",
   "execution_count": 23,
   "metadata": {},
   "outputs": [],
   "source": [
    "def train():\n",
    "    for epoch in range(epochs):\n",
    "        scheduler.step()\n",
    "        for iter,batch in enumerate(train_loader):\n",
    "            optimizer.zero_grad()\n",
    "            inputs=Variable(batch['image'])\n",
    "            labels=Variable(batch['target'])\n",
    "            outputs=fcn_model(inputs)\n",
    "            loss=criterion(outputs,labels)\n",
    "            loss.backward()\n",
    "            optimizer.step()\n",
    "            \n",
    "            if i%10==0:\n",
    "                print (\"epoch{},iter{},loss:{}\".format(epoch,iter,loss.data[0]))\n",
    "        print (\"Finish epoch:{}\".format(epoch))\n",
    "        torch.save(fcn_model,model_path)\n",
    "        val(epoch)"
   ]
  },
  {
   "cell_type": "code",
   "execution_count": 24,
   "metadata": {},
   "outputs": [],
   "source": [
    "def val(epoch,crf=True):\n",
    "    fcn_model.eval()\n",
    "    total_ious=[]\n",
    "    pixel_accs=[]\n",
    "    for iter,batch in enumerate(eval_loader):\n",
    "        inputs=Variable(batch['image'])\n",
    "        output=fcn_model(inputs)\n",
    "        output.data.cpu().numpy()\n",
    "        if crf:\n",
    "            crf_output = np.zeros(output.shape)\n",
    "            images = inputs.data.cpu().numpy().astype(np.uint8)\n",
    "            for i, (image, prob_map) in enumerate(zip(images, output)):\n",
    "                image = image.transpose(1, 2, 0)\n",
    "                crf_output[i] = dense_crf(image, prob_map)\n",
    "            output = crf_output\n",
    "            \n",
    "        N,_,h,w=output.shape\n",
    "        pred=output.transpose(0,2,3,1).reshape(-1,n_class).argmax(axis=1).reshape(N,h,w)\n",
    "        target=batch['label'].cpu().numpy().reshape(N,h,w)\n",
    "        \n",
    "        for p,t in zip(pred,target):\n",
    "            total_ious.append(iou(p,t))\n",
    "            pixel_accs.append(pixel_acc(p,t))\n",
    "        #calculate average IOUs\n",
    "    total_ious = np.array(total_ious).T  # n_class * val_len\n",
    "    ious = np.nanmean(total_ious, axis=1)\n",
    "    pixel_accs = np.array(pixel_accs).mean()\n",
    "    print(\"epoch{}, pix_acc: {}, meanIoU: {}, IoUs: {}\".format(epoch, pixel_accs, np.nanmean(ious), ious))\n",
    "    IU_scores[epoch] = ious\n",
    "    np.save(os.path.join(score_dir, \"meanIU\"), IU_scores)\n",
    "    pixel_scores[epoch] = pixel_accs\n",
    "    np.save(os.path.join(score_dir, \"meanPixel\"), pixel_scores)\n",
    "\n",
    "\n",
    "# borrow functions and modify it from https://github.com/Kaixhin/FCN-semantic-segmentation/blob/master/main.py\n",
    "# Calculates class intersections over unions\n",
    "def iou(pred, target):\n",
    "    ious = []\n",
    "    for cls in range(n_classes):\n",
    "        pred_inds = pred == cls\n",
    "        target_inds = target == cls\n",
    "        intersection = pred_inds[target_inds].sum()\n",
    "        union = pred_inds.sum() + target_inds.sum() - intersection\n",
    "        if union == 0:\n",
    "            ious.append(float('nan'))  # if there is no ground truth, do not include in evaluation\n",
    "        else:\n",
    "            ious.append(float(intersection) / max(union, 1))\n",
    "        # print(\"cls\", cls, pred_inds.sum(), target_inds.sum(), intersection, float(intersection) / max(union, 1))\n",
    "    return ious\n",
    "\n",
    "\n",
    "def pixel_acc(pred, target):\n",
    "    correct = (pred == target).sum()\n",
    "    total   = (target == target).sum()\n",
    "    return correct / total    "
   ]
  },
  {
   "cell_type": "code",
   "execution_count": null,
   "metadata": {},
   "outputs": [],
   "source": []
  }
 ],
 "metadata": {
  "kernelspec": {
   "display_name": "Python 2",
   "language": "python",
   "name": "python2"
  },
  "language_info": {
   "codemirror_mode": {
    "name": "ipython",
    "version": 2
   },
   "file_extension": ".py",
   "mimetype": "text/x-python",
   "name": "python",
   "nbconvert_exporter": "python",
   "pygments_lexer": "ipython2",
   "version": "2.7.11"
  }
 },
 "nbformat": 4,
 "nbformat_minor": 2
}
