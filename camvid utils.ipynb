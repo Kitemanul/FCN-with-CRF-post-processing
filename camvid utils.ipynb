{
 "cells": [
  {
   "cell_type": "code",
   "execution_count": 1,
   "metadata": {},
   "outputs": [],
   "source": [
    "import torch \n",
    "import torch.nn as nn\n",
    "import os \n",
    "import cv2\n",
    "from __future__ import print_function\n",
    "import numpy as np\n",
    "import matplotlib.pyplot as plt"
   ]
  },
  {
   "cell_type": "code",
   "execution_count": 6,
   "metadata": {},
   "outputs": [],
   "source": [
    "root_dir='camvid-master'\n",
    "data_dir=os.path.join(root_dir,'701_StillsRaw_full')\n",
    "label_dir=os.path.join(root_dir,'LabeledApproved_full')\n",
    "label_colors__file=os.path.join(root_dir,'label_colors.txt')\n",
    "#create dir for labeled idx\n",
    "label_idx_dir=os.path.join(root_dir,'Labeled_idx')\n",
    "if not os.path.exists(label_idx_dir):\n",
    "    os.mkdir(label_idx_dir)"
   ]
  },
  {
   "cell_type": "code",
   "execution_count": 9,
   "metadata": {},
   "outputs": [],
   "source": [
    "all_images=os.listdir(data_dir)\n",
    "all_labels=os.listdir(label_dir)\n",
    "label2color={}\n",
    "color2label={}\n",
    "label2index={}\n",
    "index2label={}\n",
    "def parse_label():\n",
    "    f=open(label_colors_file,'r').read().split[:-1] #ignoring the last empty line\n",
    "    for idx,line in enumerate(f):\n",
    "        label=line.split()[-1]\n",
    "        color=tuple([int(x) for x in line.split()[:-1]])\n",
    "    \n",
    "        color2label[color]=label\n",
    "        label2color[label]=color\n",
    "        label2index[label]=idx\n",
    "        index2label[idx]=label\n",
    "    \n",
    "    for idx,name in enumerate(all_labels):\n",
    "        filename=os.path.join(label_idx_dir,name)\n",
    "        image=cv2.imread(name)\n",
    "        height,width,_=image.shape\n",
    "        idx_mat=np.zeros(h,w)\n",
    "        for h in range(height):\n",
    "            for w in range(width):\n",
    "                color=tuple(img[h,w])\n",
    "                try:\n",
    "                    color2label[color]=label\n",
    "                    label2index[label]=index\n",
    "                    idx_mat[h,w]=index\n",
    "                except:\n",
    "                    print(\"error: img:%s, h:%d, w:%d\" % (name, h, w))\n",
    "                \n",
    "        idx_mat.astype(np.uint8)\n",
    "        np.save(filename,idx_mat)\n",
    "    \n",
    "    "
   ]
  },
  {
   "cell_type": "code",
   "execution_count": null,
   "metadata": {},
   "outputs": [],
   "source": []
  }
 ],
 "metadata": {
  "kernelspec": {
   "display_name": "Python 2",
   "language": "python",
   "name": "python2"
  },
  "language_info": {
   "codemirror_mode": {
    "name": "ipython",
    "version": 2
   },
   "file_extension": ".py",
   "mimetype": "text/x-python",
   "name": "python",
   "nbconvert_exporter": "python",
   "pygments_lexer": "ipython2",
   "version": "2.7.11"
  }
 },
 "nbformat": 4,
 "nbformat_minor": 2
}
